{
 "cells": [
  {
   "cell_type": "markdown",
   "metadata": {},
   "source": [
    "## Profiling (7 pts + 2 bonus pts)\n",
    "\n",
    "Before we go any further and start looking at how vectorization makes your program faster, we need to talk about profiling. Profiling is the act of measuring performance of a program, either by timing it or by looking into memory access, depending on what is you are trying to measure.\n",
    "\n",
    "(Follow the instructions here: https://jakevdp.github.io/PythonDataScienceHandbook/01.07-timing-and-profiling.html to setup the profilers)\n",
    "\n",
    "# **Remember to save your file after generating all the required results. Then we can directly see your results.**\n",
    "\n",
    "### Time\n",
    "\n",
    "This is the most common profiler. In a python code you just import the time module and measure starting and ending time. For IPython we can call the %time %%time and %%timeit magic"
   ]
  },
  {
   "cell_type": "code",
   "execution_count": 1,
   "metadata": {},
   "outputs": [
    {
     "data": {
      "text/plain": [
       "\u001b[0;31mDocstring:\u001b[0m\n",
       "Time execution of a Python statement or expression.\n",
       "\n",
       "The CPU and wall clock times are printed, and the value of the\n",
       "expression (if any) is returned.  Note that under Win32, system time\n",
       "is always reported as 0, since it can not be measured.\n",
       "\n",
       "This function can be used both as a line and cell magic:\n",
       "\n",
       "- In line mode you can time a single-line statement (though multiple\n",
       "  ones can be chained with using semicolons).\n",
       "\n",
       "- In cell mode, you can time the cell body (a directly\n",
       "  following statement raises an error).\n",
       "\n",
       "This function provides very basic timing functionality.  Use the timeit\n",
       "magic for more control over the measurement.\n",
       "\n",
       ".. versionchanged:: 7.3\n",
       "    User variables are no longer expanded,\n",
       "    the magic line is always left unmodified.\n",
       "\n",
       "Examples\n",
       "--------\n",
       "::\n",
       "\n",
       "  In [1]: %time 2**128\n",
       "  CPU times: user 0.00 s, sys: 0.00 s, total: 0.00 s\n",
       "  Wall time: 0.00\n",
       "  Out[1]: 340282366920938463463374607431768211456L\n",
       "\n",
       "  In [2]: n = 1000000\n",
       "\n",
       "  In [3]: %time sum(range(n))\n",
       "  CPU times: user 1.20 s, sys: 0.05 s, total: 1.25 s\n",
       "  Wall time: 1.37\n",
       "  Out[3]: 499999500000L\n",
       "\n",
       "  In [4]: %time print 'hello world'\n",
       "  hello world\n",
       "  CPU times: user 0.00 s, sys: 0.00 s, total: 0.00 s\n",
       "  Wall time: 0.00\n",
       "\n",
       "  Note that the time needed by Python to compile the given expression\n",
       "  will be reported if it is more than 0.1s.  In this example, the\n",
       "  actual exponentiation is done by Python at compilation time, so while\n",
       "  the expression can take a noticeable amount of time to compute, that\n",
       "  time is purely due to the compilation:\n",
       "\n",
       "  In [5]: %time 3**9999;\n",
       "  CPU times: user 0.00 s, sys: 0.00 s, total: 0.00 s\n",
       "  Wall time: 0.00 s\n",
       "\n",
       "  In [6]: %time 3**999999;\n",
       "  CPU times: user 0.00 s, sys: 0.00 s, total: 0.00 s\n",
       "  Wall time: 0.00 s\n",
       "  Compiler : 0.78 s\n",
       "  \n",
       "\u001b[0;31mFile:\u001b[0m      /usr/local/lib/python3.6/dist-packages/IPython/core/magics/execution.py\n"
      ]
     },
     "metadata": {},
     "output_type": "display_data"
    }
   ],
   "source": [
    "%time?"
   ]
  },
  {
   "cell_type": "markdown",
   "metadata": {},
   "source": [
    "# Question 1 (0.5 pts)\n",
    "Run the following code and explain its output"
   ]
  },
  {
   "cell_type": "code",
   "execution_count": 3,
   "metadata": {},
   "outputs": [
    {
     "name": "stdout",
     "output_type": "stream",
     "text": [
      "CPU times: user 1.4 s, sys: 8 ms, total: 1.41 s\n",
      "Wall time: 1.43 s\n"
     ]
    }
   ],
   "source": [
    "%%time\n",
    "total = 0\n",
    "for i in range(1000):\n",
    "    for j in range(1000):\n",
    "        total += i * (-1) ** j"
   ]
  },
  {
   "cell_type": "markdown",
   "metadata": {},
   "source": [
    "#### The code is a nested for loop with 1000\\*1000 iterations. The report tells us that it took 1.36 seconds to run it on the cpu and the total time on the clock was 1.37 seconds"
   ]
  },
  {
   "cell_type": "markdown",
   "metadata": {},
   "source": [
    "# Question 2 (0.5)\n",
    "There are two blocks of code below performing the same function on a given input, explain why the second sort is much faster"
   ]
  },
  {
   "cell_type": "code",
   "execution_count": 4,
   "metadata": {},
   "outputs": [
    {
     "name": "stdout",
     "output_type": "stream",
     "text": [
      "CPU times: user 136 ms, sys: 4 ms, total: 140 ms\n",
      "Wall time: 143 ms\n"
     ]
    }
   ],
   "source": [
    "import random\n",
    "L = [random.random() for i in range(100000)]\n",
    "%time L.sort()"
   ]
  },
  {
   "cell_type": "code",
   "execution_count": 5,
   "metadata": {},
   "outputs": [
    {
     "name": "stdout",
     "output_type": "stream",
     "text": [
      "CPU times: user 16 ms, sys: 0 ns, total: 16 ms\n",
      "Wall time: 16.8 ms\n"
     ]
    }
   ],
   "source": [
    "%time L.sort()"
   ]
  },
  {
   "cell_type": "markdown",
   "metadata": {},
   "source": [
    "The first block has unsorted values but since we run it and than run sort on it again in the second block the data is already sorted"
   ]
  },
  {
   "cell_type": "markdown",
   "metadata": {},
   "source": [
    "# Question 3 (1 pts)\n",
    "Use Python memory_profiler to profile your own code and explain the results"
   ]
  },
  {
   "cell_type": "code",
   "execution_count": 6,
   "metadata": {},
   "outputs": [
    {
     "name": "stdout",
     "output_type": "stream",
     "text": [
      "Defaulting to user installation because normal site-packages is not writeable\n",
      "Requirement already satisfied: memory_profiler in /usr/local/lib/python3.6/dist-packages (0.61.0)\n",
      "Requirement already satisfied: psutil in /usr/local/lib/python3.6/dist-packages (from memory_profiler) (6.1.1)\n"
     ]
    }
   ],
   "source": [
    "!pip3 install memory_profiler"
   ]
  },
  {
   "cell_type": "code",
   "execution_count": 7,
   "metadata": {},
   "outputs": [],
   "source": [
    "%load_ext memory_profiler"
   ]
  },
  {
   "cell_type": "code",
   "execution_count": 18,
   "metadata": {},
   "outputs": [],
   "source": [
    "def sum_of_lists(N):\n",
    "    total = 0\n",
    "    for i in range(5):\n",
    "        L = [j ^ (j >> i) for j in range(N)]\n",
    "        total += sum(L)\n",
    "    return total"
   ]
  },
  {
   "cell_type": "code",
   "execution_count": 19,
   "metadata": {},
   "outputs": [
    {
     "name": "stdout",
     "output_type": "stream",
     "text": [
      "peak memory: 61.30 MiB, increment: 6.81 MiB\n"
     ]
    }
   ],
   "source": [
    "%memit sum_of_lists(100000)"
   ]
  },
  {
   "cell_type": "code",
   "execution_count": 24,
   "metadata": {},
   "outputs": [
    {
     "name": "stdout",
     "output_type": "stream",
     "text": [
      "peak memory: 57.07 MiB, increment: 1.34 MiB\n"
     ]
    }
   ],
   "source": [
    "def sum_of_lists2(N):\n",
    "    total = [0] * N\n",
    "    for i in range(N):\n",
    "        total[i] += N + i\n",
    "    return total\n",
    "%memit sum_of_lists2(100000)"
   ]
  },
  {
   "cell_type": "code",
   "execution_count": 25,
   "metadata": {},
   "outputs": [
    {
     "name": "stdout",
     "output_type": "stream",
     "text": [
      "peak memory: 56.71 MiB, increment: 0.00 MiB\n"
     ]
    }
   ],
   "source": [
    "def sum_of_lists3(N):\n",
    "    total = 0\n",
    "    for i in range(N):\n",
    "        total += N + i\n",
    "    return total\n",
    "%memit sum_of_lists3(100000)"
   ]
  },
  {
   "cell_type": "markdown",
   "metadata": {},
   "source": [
    "When memory is allocated through a data strucutre like a list, there is an incriment in the peak memory, however when no large object is created like a int, there is little to nonmeasurable increase in the bumber of MiB"
   ]
  },
  {
   "cell_type": "markdown",
   "metadata": {},
   "source": [
    "# Question 4 (7 pts)\n",
    "Run the following codes to measure execution time, memory usage and answer the following questions.\n",
    "Note: Make sure to install any missing Python packages"
   ]
  },
  {
   "cell_type": "markdown",
   "metadata": {},
   "source": [
    "1. This code snippet defines and runs a simple Python function hello() that prints 'hello world!'. It also employs the memory_profiler module to profile the memory usage of the hello() function with a specified precision."
   ]
  },
  {
   "cell_type": "code",
   "execution_count": 58,
   "metadata": {},
   "outputs": [
    {
     "name": "stdout",
     "output_type": "stream",
     "text": [
      "Overwriting helloworld.py\n",
      "CPU times: user 0 ns, sys: 4 ms, total: 4 ms\n",
      "Wall time: 3.72 ms\n"
     ]
    }
   ],
   "source": [
    "%%time\n",
    "%%file helloworld.py\n",
    "\n",
    "from memory_profiler import profile\n",
    "\n",
    "@profile(precision=4)\n",
    "def hello():\n",
    "\tprint(\"hello world!\") \n",
    "\n",
    "hello()"
   ]
  },
  {
   "cell_type": "code",
   "execution_count": 59,
   "metadata": {},
   "outputs": [
    {
     "name": "stdout",
     "output_type": "stream",
     "text": [
      "hello world!\n",
      "Filename: /home/jerry/Documents/CS131/lab1/helloworld.py\n",
      "\n",
      "Line #    Mem usage    Increment  Occurrences   Line Contents\n",
      "=============================================================\n",
      "     4  72.0312 MiB  72.0312 MiB           1   @profile(precision=4)\n",
      "     5                                         def hello():\n",
      "     6  72.0312 MiB   0.0000 MiB           1   \tprint(\"hello world!\") \n",
      "\n",
      "\n"
     ]
    }
   ],
   "source": [
    "%run -i helloworld.py"
   ]
  },
  {
   "cell_type": "markdown",
   "metadata": {},
   "source": [
    "2. This code snippet demonstrates memory profiling for a Python function my_func() that creates, manipulates, and deletes large lists, showcasing how memory usage changes with these operations"
   ]
  },
  {
   "cell_type": "code",
   "execution_count": 60,
   "metadata": {},
   "outputs": [
    {
     "name": "stdout",
     "output_type": "stream",
     "text": [
      "Overwriting expressions.py\n",
      "CPU times: user 0 ns, sys: 4 ms, total: 4 ms\n",
      "Wall time: 3.15 ms\n"
     ]
    }
   ],
   "source": [
    "%%time\n",
    "%%file expressions.py\n",
    "from memory_profiler import profile\n",
    "@profile(precision=4)\n",
    "def my_func():\n",
    "    a = [1] * (10 ** 6)\n",
    "    b = [2] * (2 * 10 ** 7)\n",
    "    del b\n",
    "    return a\n",
    "my_func()"
   ]
  },
  {
   "cell_type": "code",
   "execution_count": 61,
   "metadata": {},
   "outputs": [
    {
     "name": "stdout",
     "output_type": "stream",
     "text": [
      "Filename: /home/jerry/Documents/CS131/lab1/expressions.py\n",
      "\n",
      "Line #    Mem usage    Increment  Occurrences   Line Contents\n",
      "=============================================================\n",
      "     2  72.0312 MiB  72.0312 MiB           1   @profile(precision=4)\n",
      "     3                                         def my_func():\n",
      "     4  74.4961 MiB   2.4648 MiB           1       a = [1] * (10 ** 6)\n",
      "     5 227.1211 MiB 152.6250 MiB           1       b = [2] * (2 * 10 ** 7)\n",
      "     6  74.6016 MiB -152.5195 MiB           1       del b\n",
      "     7  74.6016 MiB   0.0000 MiB           1       return a\n",
      "\n",
      "\n"
     ]
    }
   ],
   "source": [
    "%run -i expressions.py"
   ]
  },
  {
   "cell_type": "markdown",
   "metadata": {},
   "source": [
    "3. This code snippet profiles memory usage of the function math_funcs(), which demonstrates the application of logarithmic, cosine, and reciprocal functions from the NumPy library on an array of numbers, and prints the results for each operation."
   ]
  },
  {
   "cell_type": "code",
   "execution_count": 71,
   "metadata": {},
   "outputs": [
    {
     "name": "stdout",
     "output_type": "stream",
     "text": [
      "Overwriting math_funcs.py\n",
      "CPU times: user 4 ms, sys: 0 ns, total: 4 ms\n",
      "Wall time: 7.3 ms\n"
     ]
    }
   ],
   "source": [
    "%%time\n",
    "%%file math_funcs.py\n",
    "from memory_profiler import profile\n",
    "import math\n",
    "import numpy as np\n",
    "\n",
    "@profile(precision=4)\n",
    "def math_funcs():\n",
    "\tinp_arr = [10, 20, 30, 40, 50] \n",
    "\tprint (\"Array input elements:\\n\", inp_arr) \n",
    "\n",
    "\tres_arr = np.log(inp_arr) \n",
    "\tprint (\"Applying log function:\\n\", res_arr)\n",
    "\n",
    "\tres_arr2 = np.cos(inp_arr) \n",
    "\tprint (\"Applying cos function:\\n\", res_arr2)\n",
    "\n",
    "\tres_arr3 = np.reciprocal(inp_arr) \n",
    "\tprint (\"Applying reciprocal function:\\n\", res_arr3)\n",
    "\n",
    "\n",
    "math_funcs()"
   ]
  },
  {
   "cell_type": "code",
   "execution_count": 69,
   "metadata": {},
   "outputs": [
    {
     "name": "stdout",
     "output_type": "stream",
     "text": [
      "Array input elements:\n",
      " [10, 20, 30, 40, 50]\n",
      "Applying log function:\n",
      " [ 2.30258509  2.99573227  3.40119738  3.68887945  3.91202301]\n",
      "Applying cos function:\n",
      " [-0.83907153  0.40808206  0.15425145 -0.66693806  0.96496603]\n",
      "Applying reciprocal function:\n",
      " [0 0 0 0 0]\n",
      "Filename: /home/jerry/Documents/CS131/lab1/math_funcs.py\n",
      "\n",
      "Line #    Mem usage    Increment  Occurrences   Line Contents\n",
      "=============================================================\n",
      "     5  74.6211 MiB  74.6211 MiB           1   @profile(precision=4)\n",
      "     6                                         def math_funcs():\n",
      "     7  74.6211 MiB   0.0000 MiB           1   \tinp_arr = [10, 20, 30, 40, 50] \n",
      "     8  74.6211 MiB   0.0000 MiB           1   \tprint (\"Array input elements:\\n\", inp_arr) \n",
      "     9                                         \n",
      "    10  74.6289 MiB   0.0078 MiB           1   \tres_arr = np.log(inp_arr) \n",
      "    11  74.6289 MiB   0.0000 MiB           1   \tprint (\"Applying log function:\\n\", res_arr)\n",
      "    12                                         \n",
      "    13  74.6289 MiB   0.0000 MiB           1   \tres_arr2 = np.cos(inp_arr) \n",
      "    14  74.6289 MiB   0.0000 MiB           1   \tprint (\"Applying cos function:\\n\", res_arr2)\n",
      "    15                                         \n",
      "    16  74.6289 MiB   0.0000 MiB           1   \tres_arr3 = np.reciprocal(inp_arr) \n",
      "    17  74.6289 MiB   0.0000 MiB           1   \tprint (\"Applying reciprocal function:\\n\", res_arr3)\n",
      "\n",
      "\n"
     ]
    }
   ],
   "source": [
    "%run -i math_funcs.py"
   ]
  },
  {
   "cell_type": "markdown",
   "metadata": {},
   "source": [
    "4. This code snippet, using memory profiling, demonstrates a nested loop in Python where it iterates through combinations of adjectives and fruit names, printing each pair."
   ]
  },
  {
   "cell_type": "code",
   "execution_count": 64,
   "metadata": {},
   "outputs": [
    {
     "name": "stdout",
     "output_type": "stream",
     "text": [
      "Overwriting loops.py\n",
      "CPU times: user 0 ns, sys: 4 ms, total: 4 ms\n",
      "Wall time: 3.94 ms\n"
     ]
    }
   ],
   "source": [
    "%%time\n",
    "%%file loops.py\n",
    "from memory_profiler import profile\n",
    "import numpy as np\n",
    "import ctypes\n",
    "import math\n",
    "import time\n",
    "\n",
    "@profile(precision=4)\n",
    "def my_loops():\n",
    "\tadj = [\"red\", \"big\", \"tasty\"]\n",
    "\tfruits = [\"apple\", \"banana\", \"cherry\"]\n",
    "\n",
    "\tfor x in adj:\n",
    " \t\t for y in fruits:\n",
    "   \t\t\t print(x, y)\n",
    "\n",
    "\n",
    "my_loops()"
   ]
  },
  {
   "cell_type": "code",
   "execution_count": 53,
   "metadata": {},
   "outputs": [
    {
     "name": "stdout",
     "output_type": "stream",
     "text": [
      "red apple\n",
      "red banana\n",
      "red cherry\n",
      "big apple\n",
      "big banana\n",
      "big cherry\n",
      "tasty apple\n",
      "tasty banana\n",
      "tasty cherry\n",
      "Filename: /home/jerry/Documents/CS131/lab1/loops.py\n",
      "\n",
      "Line #    Mem usage    Increment  Occurrences   Line Contents\n",
      "=============================================================\n",
      "     7  72.0312 MiB  72.0312 MiB           1   @profile(precision=4)\n",
      "     8                                         def my_loops():\n",
      "     9  72.0312 MiB   0.0000 MiB           1   \tadj = [\"red\", \"big\", \"tasty\"]\n",
      "    10  72.0312 MiB   0.0000 MiB           1   \tfruits = [\"apple\", \"banana\", \"cherry\"]\n",
      "    11                                         \n",
      "    12  72.0312 MiB   0.0000 MiB           4   \tfor x in adj:\n",
      "    13  72.0312 MiB   0.0000 MiB          12    \t\t for y in fruits:\n",
      "    14  72.0312 MiB   0.0000 MiB           9      \t\t\t print(x, y)\n",
      "\n",
      "\n"
     ]
    }
   ],
   "source": [
    "%run -i loops.py"
   ]
  },
  {
   "cell_type": "markdown",
   "metadata": {},
   "source": [
    "## Question 4.1 (1.5 pts)\n",
    "Modify each of the above function to capture their execution time (Both CPU and Wall). You can modify the code directly, if required."
   ]
  },
  {
   "cell_type": "code",
   "execution_count": 27,
   "metadata": {},
   "outputs": [],
   "source": [
    "# code above was modified"
   ]
  },
  {
   "cell_type": "markdown",
   "metadata": {},
   "source": [
    "## Question 4.2 (1.5 pts)\n",
    "\n",
    "What patterns did you notice between each of the above function with respect to latency, memory usage and code ?\n"
   ]
  },
  {
   "cell_type": "markdown",
   "metadata": {},
   "source": [
    "We noticed on all the above functions that they all had the cpu time of 4ms, even when we reran the functions they still maintained a cpu of 4ms, however the wall time would change. For the latency we noticed that in real time it was changing every time we re ran the function. For the memory usage we noticed that of course when we allocated more memory for the arrays our memory usage went up, but for printing and small arrays the memory usage was incremented very little."
   ]
  },
  {
   "cell_type": "markdown",
   "metadata": {},
   "source": [
    "## Question 4.3 (2 pts)\n",
    "Using %time magic command, we can trace overall code execution time. Sometimes, you might have to get deeper insights to identify performance bottlenecks. Write your own code and profile execution time line by line."
   ]
  },
  {
   "cell_type": "code",
   "execution_count": 28,
   "metadata": {},
   "outputs": [
    {
     "name": "stdout",
     "output_type": "stream",
     "text": [
      "Defaulting to user installation because normal site-packages is not writeable\n",
      "Requirement already satisfied: line_profiler in /home/jerry/.local/lib/python3.6/site-packages (4.1.3)\n"
     ]
    }
   ],
   "source": [
    "!pip install line_profiler"
   ]
  },
  {
   "cell_type": "code",
   "execution_count": 111,
   "metadata": {},
   "outputs": [
    {
     "name": "stdout",
     "output_type": "stream",
     "text": [
      "The line_profiler extension is already loaded. To reload it, use:\n",
      "  %reload_ext line_profiler\n"
     ]
    }
   ],
   "source": [
    "%load_ext line_profiler"
   ]
  },
  {
   "cell_type": "code",
   "execution_count": 47,
   "metadata": {},
   "outputs": [
    {
     "name": "stdout",
     "output_type": "stream",
     "text": [
      "Overwriting func.py\n",
      "CPU times: user 4 ms, sys: 0 ns, total: 4 ms\n",
      "Wall time: 2.24 ms\n"
     ]
    }
   ],
   "source": [
    "%%time\n",
    "%%file func.py\n",
    "from memory_profiler import profile\n",
    "\n",
    "@profile(precision=4)\n",
    "def func(n):\n",
    "    adj = [\"red\", \"big\", \"tasty\"] * (10 ** 6)\n",
    "    fruits = [\"apple\", \"banana\", \"cherry\"]\n",
    "        \n",
    "    for i in range(n):\n",
    "        a = [1] * (10 ** 6)\n",
    "    return a\n",
    "                   \n",
    "func(2)"
   ]
  },
  {
   "cell_type": "code",
   "execution_count": 48,
   "metadata": {},
   "outputs": [
    {
     "name": "stdout",
     "output_type": "stream",
     "text": [
      "Filename: /home/jerry/Documents/CS131/lab1/func.py\n",
      "\n",
      "Line #    Mem usage    Increment  Occurrences   Line Contents\n",
      "=============================================================\n",
      "     3  78.8359 MiB  78.8359 MiB           1   @profile(precision=4)\n",
      "     4                                         def func(n):\n",
      "     5  78.8359 MiB   0.0000 MiB           1       adj = [\"red\", \"big\", \"tasty\"] * (10 ** 6)\n",
      "     6  78.8359 MiB   0.0000 MiB           1       fruits = [\"apple\", \"banana\", \"cherry\"]\n",
      "     7                                                 \n",
      "     8  93.9688 MiB   0.0000 MiB           3       for i in range(n):\n",
      "     9  93.9688 MiB  15.1328 MiB           2           a = [1] * (10 ** 6)\n",
      "    10  93.9688 MiB   0.0000 MiB           1       return a\n",
      "\n",
      "\n"
     ]
    }
   ],
   "source": [
    "%run -i func.py"
   ]
  },
  {
   "cell_type": "markdown",
   "metadata": {},
   "source": [
    "## (Bonus) Question 4.4 (2 pts)\n",
    "Memory usage of a program can also be reported as a function of time. Profile memory of any of the above code as a function of time.\n",
    "Submit your profile results and a plot of the results (Mem used vs Time)."
   ]
  },
  {
   "cell_type": "code",
   "execution_count": 51,
   "metadata": {},
   "outputs": [
    {
     "name": "stdout",
     "output_type": "stream",
     "text": [
      "Overwriting func.py\n",
      "CPU times: user 4 ms, sys: 0 ns, total: 4 ms\n",
      "Wall time: 1.61 ms\n"
     ]
    }
   ],
   "source": [
    "%%time\n",
    "%%file func.py\n",
    "from memory_profiler import profile\n",
    "\n",
    "@profile(precision=4)\n",
    "def sum_list(N):\n",
    "    vals = []\n",
    "    for i in range(N):\n",
    "        vals.append(i)\n",
    "    \n",
    "    total = 0\n",
    "    for i in range(N):\n",
    "        total += vals[i]\n",
    "    \n",
    "    return total\n",
    "\n",
    "sum_list(10**4)"
   ]
  },
  {
   "cell_type": "code",
   "execution_count": 68,
   "metadata": {},
   "outputs": [
    {
     "data": {
      "text/plain": [
       "[0.0,\n",
       " 3.337860107421875e-06,\n",
       " 4.76837158203125e-06,\n",
       " 6.198883056640625e-06,\n",
       " 7.62939453125e-06,\n",
       " 9.5367431640625e-06,\n",
       " 1.049041748046875e-05,\n",
       " 1.1682510375976562e-05,\n",
       " 1.33514404296875e-05]"
      ]
     },
     "execution_count": 68,
     "metadata": {},
     "output_type": "execute_result"
    }
   ],
   "source": [
    "from memory_profiler import memory_usage\n",
    "import time \n",
    "import matplotlib.pyplot as plt \n",
    "\n",
    "memory = []\n",
    "times = []\n",
    "N = 10**6\n",
    "\n",
    "start_time = time.time()\n",
    "for mem in memory_usage((sum_list, (N, )), interval=0.1, retval=False):\n",
    "    memory.append(mem)\n",
    "    times.append(time.time() - start_time)\n",
    "\n",
    "times = [t -times[0] for t in times]"
   ]
  },
  {
   "cell_type": "markdown",
   "metadata": {},
   "source": [
    "Plot goes here"
   ]
  },
  {
   "cell_type": "code",
   "execution_count": 73,
   "metadata": {},
   "outputs": [
    {
     "data": {
      "text/plain": [
       "Text(0.5,0,'Time since execution')"
      ]
     },
     "execution_count": 73,
     "metadata": {},
     "output_type": "execute_result"
    },
    {
     "data": {
      "image/png": "[encoded data removed]",
      "text/plain": [
       "<matplotlib.figure.Figure at 0x7f79f961d0>"
      ]
     },
     "metadata": {
      "needs_background": "light"
     },
     "output_type": "display_data"
    }
   ],
   "source": [
    "plt.plot(times, memory)\n",
    "plt.ylabel(\"Memory\")\n",
    "plt.xlabel(\"Time since execution\")"
   ]
  },
  {
   "cell_type": "code",
   "execution_count": null,
   "metadata": {},
   "outputs": [],
   "source": []
  }
 ],
 "metadata": {
  "kernelspec": {
   "display_name": "Python 3",
   "language": "python",
   "name": "python3"
  },
  "language_info": {
   "codemirror_mode": {
    "name": "ipython",
    "version": 3
   },
   "file_extension": ".py",
   "mimetype": "text/x-python",
   "name": "python",
   "nbconvert_exporter": "python",
   "pygments_lexer": "ipython3",
   "version": "3.6.9"
  },
  "vscode": {
   "interpreter": {
    "hash": "b0fa6594d8f4cbf19f97940f81e996739fb7646882a419484c72d19e05852a7e"
   }
  }
 },
 "nbformat": 4,
 "nbformat_minor": 4
}
